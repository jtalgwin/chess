{
 "cells": [
  {
   "cell_type": "markdown",
   "id": "4fd13587-b3ed-432f-b7f6-9e21c2f7c3fc",
   "metadata": {
    "tags": []
   },
   "source": [
    "### Simple Jupyter Chess 01\n",
    "Adaptation building upon:\n",
    " - https://jupyter.brynmawr.edu/services/public/dblank/CS371%20Cognitive%20Science/2016-Fall/Programming%20a%20Chess%20Player.ipynb\n",
    " \n",
    "User can play white or black vs. a simple chess engine that selects at random from available legal moves.\n",
    "Or, the program can be set to play itself.  Use `re-run the whole notebook` or step through in order.  \n",
    "Select playing option, then play.\n",
    " \n",
    "Jopin Talgwin\n",
    "2022-02-08"
   ]
  },
  {
   "cell_type": "markdown",
   "id": "d2a23608-c161-4a0e-824d-af782a221269",
   "metadata": {
    "tags": []
   },
   "source": [
    "#### Imports"
   ]
  },
  {
   "cell_type": "code",
   "execution_count": null,
   "id": "808b0216-c9dd-4862-ba91-57ef3123f6e1",
   "metadata": {
    "jupyter": {
     "source_hidden": true
    },
    "tags": []
   },
   "outputs": [],
   "source": [
    "import random\n",
    "import time\n",
    "\n",
    "import chess\n",
    "import chess.svg\n",
    "import chess.pgn\n",
    "\n",
    "from IPython.display import display, clear_output"
   ]
  },
  {
   "cell_type": "markdown",
   "id": "c4f2665e-4cbd-4c12-942d-9d892ff26cf9",
   "metadata": {
    "tags": []
   },
   "source": [
    "#### Constants"
   ]
  },
  {
   "cell_type": "code",
   "execution_count": null,
   "id": "93b9bbc2-f49c-4459-9ce6-f91d3636a32f",
   "metadata": {
    "jupyter": {
     "source_hidden": true
    },
    "tags": []
   },
   "outputs": [],
   "source": [
    "PLAY_AS_WHITE = \"w\"\n",
    "PLAY_AS_BLACK = \"b\"\n",
    "AUTO_PLAY = \"a\"\n",
    "\n",
    "PLAY_OPTIONS = [\n",
    "    PLAY_AS_WHITE, \n",
    "    PLAY_AS_BLACK,\n",
    "    AUTO_PLAY,\n",
    "]\n",
    "\n",
    "AUTO_PLAY_WAIT = 1                # Duration in sec. of each board display during autoplay.\n",
    "DISPLAY_WAIT = 0.2                # Needed to get the display working for me."
   ]
  },
  {
   "cell_type": "markdown",
   "id": "32b0b58b-7c9d-4773-9813-fed7030e4420",
   "metadata": {
    "tags": []
   },
   "source": [
    "#### Function Definitions"
   ]
  },
  {
   "cell_type": "code",
   "execution_count": null,
   "id": "4235d668-3137-4336-9e03-d44dd1d2f79f",
   "metadata": {
    "jupyter": {
     "source_hidden": true
    },
    "tags": []
   },
   "outputs": [],
   "source": [
    "def random_move(board):\n",
    "    move = random.choice(list(board.legal_moves))\n",
    "    return move.uci()\n",
    "\n",
    "def who(player):\n",
    "    return \"White\" if player == chess.WHITE else \"Black\"\n",
    "\n",
    "def svg_chess(board):\n",
    "    \"\"\"\n",
    "    Uses the python-chess `chess.svg.board()` function to return a renering of \n",
    "    `board` as a svg impage oriented from the current board.turn POV for use \n",
    "    in `IPython.display.display();`).      \n",
    "    \"\"\"\n",
    "    return chess.svg.board(\n",
    "        board, \n",
    "        orientation=board.turn,\n",
    "        size=400,\n",
    "    ) \n",
    "\n",
    "def get_move(prompt):\n",
    "    uci = input(prompt)\n",
    "    if uci and uci[0] == \"q\":\n",
    "        raise KeyboardInterrupt()\n",
    "    try:\n",
    "        chess.Move.from_uci(uci)\n",
    "    except:\n",
    "        uci = None\n",
    "    return uci\n",
    "\n",
    "def user_move(board):\n",
    "    display(svg_chess(board))\n",
    "    uci = get_move(\"%s's move [q to quit]> \" % who(board.turn))\n",
    "    legal_uci_moves = [move.uci() for move in board.legal_moves]\n",
    "    while uci not in legal_uci_moves:\n",
    "        print(\"Legal moves: \" + (\",\".join(sorted(legal_uci_moves))))\n",
    "        uci = get_move(\"%s's move[q to quit]> \" % who(board.turn))\n",
    "    return uci\n",
    "\n",
    "def choose_play_options():\n",
    "    play_option = None\n",
    "    while play_option not in PLAY_OPTIONS:\n",
    "        print(\"You can choose to play White or Black, or have the computer play both sides\")\n",
    "        play_option = input(\", \".join(PLAY_OPTIONS)+\":\").lower()\n",
    "    return play_option"
   ]
  },
  {
   "cell_type": "markdown",
   "id": "7da32d3f-68a9-4352-9827-8e7923cdc79d",
   "metadata": {
    "tags": []
   },
   "source": [
    "#### Select Playing Option"
   ]
  },
  {
   "cell_type": "code",
   "execution_count": null,
   "id": "03b3f7f1-e4b3-49ed-a596-a3a368cd83a1",
   "metadata": {
    "jupyter": {
     "source_hidden": true
    },
    "tags": []
   },
   "outputs": [],
   "source": [
    "play_option = choose_play_options()"
   ]
  },
  {
   "cell_type": "markdown",
   "id": "16204919-ff8e-4b1d-b6b9-cbe91da91b38",
   "metadata": {
    "tags": []
   },
   "source": [
    "#### Game Play"
   ]
  },
  {
   "cell_type": "code",
   "execution_count": null,
   "id": "6c59bc44-a199-46eb-8d44-7c7222d1508e",
   "metadata": {
    "jupyter": {
     "source_hidden": true
    },
    "tags": []
   },
   "outputs": [],
   "source": [
    "# Instantiate a python-chess chess.Board().\n",
    "board = chess.Board()                            \n",
    "\n",
    "# Note the starting time for use later.\n",
    "yr = str(time.localtime(time.time()).tm_year)\n",
    "\n",
    "mo = str(time.localtime(time.time()).tm_mon)\n",
    "if len(mo) == 1:\n",
    "    mo = \"0\"+mo\n",
    "\n",
    "day = str(time.localtime(time.time()).tm_mday)\n",
    "if len(day) == 1:\n",
    "    day = \"0\"+day\n",
    "\n",
    "# Begin game play.\n",
    "try:\n",
    "    while not board.is_game_over(claim_draw=True):\n",
    "        if play_option == AUTO_PLAY:\n",
    "            board.push_uci(random_move(board))\n",
    "            if board.ply()%10 == 0:\n",
    "                display(svg_chess(board))\n",
    "                print(f\"Position after {board.ply()//2} moves.\")\n",
    "                time.sleep(AUTO_PLAY_WAIT)\n",
    "                clear_output()\n",
    "        else:                \n",
    "            clear_output()\n",
    "            time.sleep(DISPLAY_WAIT)                 # Display hack to get proper display.\n",
    "            if play_option == PLAY_AS_WHITE:\n",
    "                if board.turn == chess.WHITE:\n",
    "                    board.push_uci(user_move(board))\n",
    "                else:\n",
    "                    board.push_uci(random_move(board))\n",
    "            else:\n",
    "                if board.turn == chess.BLACK:\n",
    "                    board.push_uci(user_move(board))\n",
    "                else:\n",
    "                    board.push_uci(random_move(board))\n",
    "    display(svg_chess(board))\n",
    "    if board.is_checkmate():\n",
    "        print(\"checkmate: \" + who(not board.turn) + \" wins!\")\n",
    "    elif board.is_stalemate():\n",
    "        print(\"draw: stalemate\")\n",
    "    elif board.is_fivefold_repetition():\n",
    "        print(\"draw: 5-fold repetition\")\n",
    "    elif board.is_insufficient_material():\n",
    "        print(\"draw: insufficient material\")\n",
    "    elif board.can_claim_draw():\n",
    "        print(\"draw: claim\")\n",
    "\n",
    "except KeyboardInterrupt: \n",
    "    clear_output(wait=True)\n",
    "    display(svg_chess(board))\n",
    "    print(\"Game interrupted!\")\n"
   ]
  },
  {
   "cell_type": "code",
   "execution_count": null,
   "id": "83f7bc99-417c-42a6-8de7-08a208edac57",
   "metadata": {
    "jupyter": {
     "source_hidden": true
    },
    "tags": []
   },
   "outputs": [],
   "source": [
    "print(\"Final Position\")\n",
    "display(board)"
   ]
  },
  {
   "cell_type": "code",
   "execution_count": null,
   "id": "332869d8-9e8f-41f2-9a4e-2e5d5f8c459e",
   "metadata": {
    "jupyter": {
     "source_hidden": true
    },
    "tags": []
   },
   "outputs": [],
   "source": [
    "# Convert Game Played to pgn\n",
    "game = chess.pgn.Game.from_board(board)\n",
    "\n",
    "game.headers[\"Event\"] = \"Simple Jupyter Chess Game\"\n",
    "game.headers[\"Date\"] = yr + \".\" + mo + \".\"+ day\n",
    "\n",
    "if play_option == \"w\":\n",
    "    game.headers[\"White\"] = \"Player\"\n",
    "    game.headers[\"Black\"] = \"Random Legal Moves\"\n",
    "elif play_option == \"b\":\n",
    "    game.headers[\"White\"] = \"Random Legal Moves\"\n",
    "    game.headers[\"Black\"] = \"Player\"\n",
    "else:\n",
    "    game.headers[\"White\"] = \"Random Legal Moves\"\n",
    "    game.headers[\"Black\"] = \"Random Legal Moves\"\n",
    "    \n",
    "print(game)"
   ]
  }
 ],
 "metadata": {
  "kernelspec": {
   "display_name": "Python 3 (ipykernel)",
   "language": "python",
   "name": "python3"
  },
  "language_info": {
   "codemirror_mode": {
    "name": "ipython",
    "version": 3
   },
   "file_extension": ".py",
   "mimetype": "text/x-python",
   "name": "python",
   "nbconvert_exporter": "python",
   "pygments_lexer": "ipython3",
   "version": "3.9.10"
  }
 },
 "nbformat": 4,
 "nbformat_minor": 5
}
